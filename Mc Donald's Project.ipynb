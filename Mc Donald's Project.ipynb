{
 "cells": [
  {
   "cell_type": "code",
   "execution_count": 1,
   "metadata": {},
   "outputs": [],
   "source": [
    "import pandas as pd\n",
    "import numpy as np\n",
    "import matplotlib.pyplot as plt\n",
    "import seaborn as sns"
   ]
  },
  {
   "cell_type": "code",
   "execution_count": 2,
   "metadata": {},
   "outputs": [],
   "source": [
    "data = pd.read_csv(\"d:\\Mc Donald's  Dataset\\menu.csv\")"
   ]
  },
  {
   "cell_type": "code",
   "execution_count": 3,
   "metadata": {},
   "outputs": [
    {
     "data": {
      "text/html": [
       "<div>\n",
       "<style scoped>\n",
       "    .dataframe tbody tr th:only-of-type {\n",
       "        vertical-align: middle;\n",
       "    }\n",
       "\n",
       "    .dataframe tbody tr th {\n",
       "        vertical-align: top;\n",
       "    }\n",
       "\n",
       "    .dataframe thead th {\n",
       "        text-align: right;\n",
       "    }\n",
       "</style>\n",
       "<table border=\"1\" class=\"dataframe\">\n",
       "  <thead>\n",
       "    <tr style=\"text-align: right;\">\n",
       "      <th></th>\n",
       "      <th>Category</th>\n",
       "      <th>Item</th>\n",
       "      <th>Serving Size</th>\n",
       "      <th>Calories</th>\n",
       "      <th>Calories from Fat</th>\n",
       "      <th>Total Fat</th>\n",
       "      <th>Total Fat (% Daily Value)</th>\n",
       "      <th>Saturated Fat</th>\n",
       "      <th>Saturated Fat (% Daily Value)</th>\n",
       "      <th>Trans Fat</th>\n",
       "      <th>...</th>\n",
       "      <th>Carbohydrates</th>\n",
       "      <th>Carbohydrates (% Daily Value)</th>\n",
       "      <th>Dietary Fiber</th>\n",
       "      <th>Dietary Fiber (% Daily Value)</th>\n",
       "      <th>Sugars</th>\n",
       "      <th>Protein</th>\n",
       "      <th>Vitamin A (% Daily Value)</th>\n",
       "      <th>Vitamin C (% Daily Value)</th>\n",
       "      <th>Calcium (% Daily Value)</th>\n",
       "      <th>Iron (% Daily Value)</th>\n",
       "    </tr>\n",
       "  </thead>\n",
       "  <tbody>\n",
       "    <tr>\n",
       "      <th>0</th>\n",
       "      <td>Breakfast</td>\n",
       "      <td>Egg McMuffin</td>\n",
       "      <td>4.8 oz (136 g)</td>\n",
       "      <td>300</td>\n",
       "      <td>120</td>\n",
       "      <td>13.0</td>\n",
       "      <td>20</td>\n",
       "      <td>5.0</td>\n",
       "      <td>25</td>\n",
       "      <td>0.0</td>\n",
       "      <td>...</td>\n",
       "      <td>31</td>\n",
       "      <td>10</td>\n",
       "      <td>4</td>\n",
       "      <td>17</td>\n",
       "      <td>3</td>\n",
       "      <td>17</td>\n",
       "      <td>10</td>\n",
       "      <td>0</td>\n",
       "      <td>25</td>\n",
       "      <td>15</td>\n",
       "    </tr>\n",
       "    <tr>\n",
       "      <th>1</th>\n",
       "      <td>Breakfast</td>\n",
       "      <td>Egg White Delight</td>\n",
       "      <td>4.8 oz (135 g)</td>\n",
       "      <td>250</td>\n",
       "      <td>70</td>\n",
       "      <td>8.0</td>\n",
       "      <td>12</td>\n",
       "      <td>3.0</td>\n",
       "      <td>15</td>\n",
       "      <td>0.0</td>\n",
       "      <td>...</td>\n",
       "      <td>30</td>\n",
       "      <td>10</td>\n",
       "      <td>4</td>\n",
       "      <td>17</td>\n",
       "      <td>3</td>\n",
       "      <td>18</td>\n",
       "      <td>6</td>\n",
       "      <td>0</td>\n",
       "      <td>25</td>\n",
       "      <td>8</td>\n",
       "    </tr>\n",
       "    <tr>\n",
       "      <th>2</th>\n",
       "      <td>Breakfast</td>\n",
       "      <td>Sausage McMuffin</td>\n",
       "      <td>3.9 oz (111 g)</td>\n",
       "      <td>370</td>\n",
       "      <td>200</td>\n",
       "      <td>23.0</td>\n",
       "      <td>35</td>\n",
       "      <td>8.0</td>\n",
       "      <td>42</td>\n",
       "      <td>0.0</td>\n",
       "      <td>...</td>\n",
       "      <td>29</td>\n",
       "      <td>10</td>\n",
       "      <td>4</td>\n",
       "      <td>17</td>\n",
       "      <td>2</td>\n",
       "      <td>14</td>\n",
       "      <td>8</td>\n",
       "      <td>0</td>\n",
       "      <td>25</td>\n",
       "      <td>10</td>\n",
       "    </tr>\n",
       "    <tr>\n",
       "      <th>3</th>\n",
       "      <td>Breakfast</td>\n",
       "      <td>Sausage McMuffin with Egg</td>\n",
       "      <td>5.7 oz (161 g)</td>\n",
       "      <td>450</td>\n",
       "      <td>250</td>\n",
       "      <td>28.0</td>\n",
       "      <td>43</td>\n",
       "      <td>10.0</td>\n",
       "      <td>52</td>\n",
       "      <td>0.0</td>\n",
       "      <td>...</td>\n",
       "      <td>30</td>\n",
       "      <td>10</td>\n",
       "      <td>4</td>\n",
       "      <td>17</td>\n",
       "      <td>2</td>\n",
       "      <td>21</td>\n",
       "      <td>15</td>\n",
       "      <td>0</td>\n",
       "      <td>30</td>\n",
       "      <td>15</td>\n",
       "    </tr>\n",
       "    <tr>\n",
       "      <th>4</th>\n",
       "      <td>Breakfast</td>\n",
       "      <td>Sausage McMuffin with Egg Whites</td>\n",
       "      <td>5.7 oz (161 g)</td>\n",
       "      <td>400</td>\n",
       "      <td>210</td>\n",
       "      <td>23.0</td>\n",
       "      <td>35</td>\n",
       "      <td>8.0</td>\n",
       "      <td>42</td>\n",
       "      <td>0.0</td>\n",
       "      <td>...</td>\n",
       "      <td>30</td>\n",
       "      <td>10</td>\n",
       "      <td>4</td>\n",
       "      <td>17</td>\n",
       "      <td>2</td>\n",
       "      <td>21</td>\n",
       "      <td>6</td>\n",
       "      <td>0</td>\n",
       "      <td>25</td>\n",
       "      <td>10</td>\n",
       "    </tr>\n",
       "    <tr>\n",
       "      <th>...</th>\n",
       "      <td>...</td>\n",
       "      <td>...</td>\n",
       "      <td>...</td>\n",
       "      <td>...</td>\n",
       "      <td>...</td>\n",
       "      <td>...</td>\n",
       "      <td>...</td>\n",
       "      <td>...</td>\n",
       "      <td>...</td>\n",
       "      <td>...</td>\n",
       "      <td>...</td>\n",
       "      <td>...</td>\n",
       "      <td>...</td>\n",
       "      <td>...</td>\n",
       "      <td>...</td>\n",
       "      <td>...</td>\n",
       "      <td>...</td>\n",
       "      <td>...</td>\n",
       "      <td>...</td>\n",
       "      <td>...</td>\n",
       "      <td>...</td>\n",
       "    </tr>\n",
       "    <tr>\n",
       "      <th>255</th>\n",
       "      <td>Smoothies &amp; Shakes</td>\n",
       "      <td>McFlurry with Oreo Cookies (Small)</td>\n",
       "      <td>10.1 oz (285 g)</td>\n",
       "      <td>510</td>\n",
       "      <td>150</td>\n",
       "      <td>17.0</td>\n",
       "      <td>26</td>\n",
       "      <td>9.0</td>\n",
       "      <td>44</td>\n",
       "      <td>0.5</td>\n",
       "      <td>...</td>\n",
       "      <td>80</td>\n",
       "      <td>27</td>\n",
       "      <td>1</td>\n",
       "      <td>4</td>\n",
       "      <td>64</td>\n",
       "      <td>12</td>\n",
       "      <td>15</td>\n",
       "      <td>0</td>\n",
       "      <td>40</td>\n",
       "      <td>8</td>\n",
       "    </tr>\n",
       "    <tr>\n",
       "      <th>256</th>\n",
       "      <td>Smoothies &amp; Shakes</td>\n",
       "      <td>McFlurry with Oreo Cookies (Medium)</td>\n",
       "      <td>13.4 oz (381 g)</td>\n",
       "      <td>690</td>\n",
       "      <td>200</td>\n",
       "      <td>23.0</td>\n",
       "      <td>35</td>\n",
       "      <td>12.0</td>\n",
       "      <td>58</td>\n",
       "      <td>1.0</td>\n",
       "      <td>...</td>\n",
       "      <td>106</td>\n",
       "      <td>35</td>\n",
       "      <td>1</td>\n",
       "      <td>5</td>\n",
       "      <td>85</td>\n",
       "      <td>15</td>\n",
       "      <td>20</td>\n",
       "      <td>0</td>\n",
       "      <td>50</td>\n",
       "      <td>10</td>\n",
       "    </tr>\n",
       "    <tr>\n",
       "      <th>257</th>\n",
       "      <td>Smoothies &amp; Shakes</td>\n",
       "      <td>McFlurry with Oreo Cookies (Snack)</td>\n",
       "      <td>6.7 oz (190 g)</td>\n",
       "      <td>340</td>\n",
       "      <td>100</td>\n",
       "      <td>11.0</td>\n",
       "      <td>17</td>\n",
       "      <td>6.0</td>\n",
       "      <td>29</td>\n",
       "      <td>0.0</td>\n",
       "      <td>...</td>\n",
       "      <td>53</td>\n",
       "      <td>18</td>\n",
       "      <td>1</td>\n",
       "      <td>2</td>\n",
       "      <td>43</td>\n",
       "      <td>8</td>\n",
       "      <td>10</td>\n",
       "      <td>0</td>\n",
       "      <td>25</td>\n",
       "      <td>6</td>\n",
       "    </tr>\n",
       "    <tr>\n",
       "      <th>258</th>\n",
       "      <td>Smoothies &amp; Shakes</td>\n",
       "      <td>McFlurry with Reese's Peanut Butter Cups (Medium)</td>\n",
       "      <td>14.2 oz (403 g)</td>\n",
       "      <td>810</td>\n",
       "      <td>290</td>\n",
       "      <td>32.0</td>\n",
       "      <td>50</td>\n",
       "      <td>15.0</td>\n",
       "      <td>76</td>\n",
       "      <td>1.0</td>\n",
       "      <td>...</td>\n",
       "      <td>114</td>\n",
       "      <td>38</td>\n",
       "      <td>2</td>\n",
       "      <td>9</td>\n",
       "      <td>103</td>\n",
       "      <td>21</td>\n",
       "      <td>20</td>\n",
       "      <td>0</td>\n",
       "      <td>60</td>\n",
       "      <td>6</td>\n",
       "    </tr>\n",
       "    <tr>\n",
       "      <th>259</th>\n",
       "      <td>Smoothies &amp; Shakes</td>\n",
       "      <td>McFlurry with Reese's Peanut Butter Cups (Snack)</td>\n",
       "      <td>7.1 oz (202 g)</td>\n",
       "      <td>410</td>\n",
       "      <td>150</td>\n",
       "      <td>16.0</td>\n",
       "      <td>25</td>\n",
       "      <td>8.0</td>\n",
       "      <td>38</td>\n",
       "      <td>0.0</td>\n",
       "      <td>...</td>\n",
       "      <td>57</td>\n",
       "      <td>19</td>\n",
       "      <td>1</td>\n",
       "      <td>5</td>\n",
       "      <td>51</td>\n",
       "      <td>10</td>\n",
       "      <td>10</td>\n",
       "      <td>0</td>\n",
       "      <td>30</td>\n",
       "      <td>4</td>\n",
       "    </tr>\n",
       "  </tbody>\n",
       "</table>\n",
       "<p>260 rows × 24 columns</p>\n",
       "</div>"
      ],
      "text/plain": [
       "               Category                                               Item   \n",
       "0             Breakfast                                       Egg McMuffin  \\\n",
       "1             Breakfast                                  Egg White Delight   \n",
       "2             Breakfast                                   Sausage McMuffin   \n",
       "3             Breakfast                          Sausage McMuffin with Egg   \n",
       "4             Breakfast                   Sausage McMuffin with Egg Whites   \n",
       "..                  ...                                                ...   \n",
       "255  Smoothies & Shakes                 McFlurry with Oreo Cookies (Small)   \n",
       "256  Smoothies & Shakes                McFlurry with Oreo Cookies (Medium)   \n",
       "257  Smoothies & Shakes                 McFlurry with Oreo Cookies (Snack)   \n",
       "258  Smoothies & Shakes  McFlurry with Reese's Peanut Butter Cups (Medium)   \n",
       "259  Smoothies & Shakes   McFlurry with Reese's Peanut Butter Cups (Snack)   \n",
       "\n",
       "        Serving Size  Calories  Calories from Fat  Total Fat   \n",
       "0     4.8 oz (136 g)       300                120       13.0  \\\n",
       "1     4.8 oz (135 g)       250                 70        8.0   \n",
       "2     3.9 oz (111 g)       370                200       23.0   \n",
       "3     5.7 oz (161 g)       450                250       28.0   \n",
       "4     5.7 oz (161 g)       400                210       23.0   \n",
       "..               ...       ...                ...        ...   \n",
       "255  10.1 oz (285 g)       510                150       17.0   \n",
       "256  13.4 oz (381 g)       690                200       23.0   \n",
       "257   6.7 oz (190 g)       340                100       11.0   \n",
       "258  14.2 oz (403 g)       810                290       32.0   \n",
       "259   7.1 oz (202 g)       410                150       16.0   \n",
       "\n",
       "     Total Fat (% Daily Value)  Saturated Fat  Saturated Fat (% Daily Value)   \n",
       "0                           20            5.0                             25  \\\n",
       "1                           12            3.0                             15   \n",
       "2                           35            8.0                             42   \n",
       "3                           43           10.0                             52   \n",
       "4                           35            8.0                             42   \n",
       "..                         ...            ...                            ...   \n",
       "255                         26            9.0                             44   \n",
       "256                         35           12.0                             58   \n",
       "257                         17            6.0                             29   \n",
       "258                         50           15.0                             76   \n",
       "259                         25            8.0                             38   \n",
       "\n",
       "     Trans Fat  ...  Carbohydrates  Carbohydrates (% Daily Value)   \n",
       "0          0.0  ...             31                             10  \\\n",
       "1          0.0  ...             30                             10   \n",
       "2          0.0  ...             29                             10   \n",
       "3          0.0  ...             30                             10   \n",
       "4          0.0  ...             30                             10   \n",
       "..         ...  ...            ...                            ...   \n",
       "255        0.5  ...             80                             27   \n",
       "256        1.0  ...            106                             35   \n",
       "257        0.0  ...             53                             18   \n",
       "258        1.0  ...            114                             38   \n",
       "259        0.0  ...             57                             19   \n",
       "\n",
       "     Dietary Fiber  Dietary Fiber (% Daily Value)  Sugars  Protein   \n",
       "0                4                             17       3       17  \\\n",
       "1                4                             17       3       18   \n",
       "2                4                             17       2       14   \n",
       "3                4                             17       2       21   \n",
       "4                4                             17       2       21   \n",
       "..             ...                            ...     ...      ...   \n",
       "255              1                              4      64       12   \n",
       "256              1                              5      85       15   \n",
       "257              1                              2      43        8   \n",
       "258              2                              9     103       21   \n",
       "259              1                              5      51       10   \n",
       "\n",
       "     Vitamin A (% Daily Value)  Vitamin C (% Daily Value)   \n",
       "0                           10                          0  \\\n",
       "1                            6                          0   \n",
       "2                            8                          0   \n",
       "3                           15                          0   \n",
       "4                            6                          0   \n",
       "..                         ...                        ...   \n",
       "255                         15                          0   \n",
       "256                         20                          0   \n",
       "257                         10                          0   \n",
       "258                         20                          0   \n",
       "259                         10                          0   \n",
       "\n",
       "     Calcium (% Daily Value)  Iron (% Daily Value)  \n",
       "0                         25                    15  \n",
       "1                         25                     8  \n",
       "2                         25                    10  \n",
       "3                         30                    15  \n",
       "4                         25                    10  \n",
       "..                       ...                   ...  \n",
       "255                       40                     8  \n",
       "256                       50                    10  \n",
       "257                       25                     6  \n",
       "258                       60                     6  \n",
       "259                       30                     4  \n",
       "\n",
       "[260 rows x 24 columns]"
      ]
     },
     "execution_count": 3,
     "metadata": {},
     "output_type": "execute_result"
    }
   ],
   "source": [
    "data"
   ]
  },
  {
   "cell_type": "code",
   "execution_count": 5,
   "metadata": {},
   "outputs": [],
   "source": [
    "data.shape\n",
    "menu_category = data.Category.value_counts"
   ]
  },
  {
   "cell_type": "code",
   "execution_count": 6,
   "metadata": {},
   "outputs": [
    {
     "ename": "AttributeError",
     "evalue": "'function' object has no attribute 'plot'",
     "output_type": "error",
     "traceback": [
      "\u001b[1;31m---------------------------------------------------------------------------\u001b[0m",
      "\u001b[1;31mAttributeError\u001b[0m                            Traceback (most recent call last)",
      "Cell \u001b[1;32mIn[6], line 2\u001b[0m\n\u001b[0;32m      1\u001b[0m plt\u001b[39m.\u001b[39mfigure()\n\u001b[1;32m----> 2\u001b[0m menu_category\u001b[39m.\u001b[39;49mplot\u001b[39m.\u001b[39mbar(color \u001b[39m=\u001b[39m [\u001b[39m'\u001b[39m\u001b[39mred\u001b[39m\u001b[39m'\u001b[39m,\u001b[39m'\u001b[39m\u001b[39mpink\u001b[39m\u001b[39m'\u001b[39m,\u001b[39m'\u001b[39m\u001b[39mpink\u001b[39m\u001b[39m'\u001b[39m,\u001b[39m'\u001b[39m\u001b[39mpink\u001b[39m\u001b[39m'\u001b[39m,\u001b[39m'\u001b[39m\u001b[39mpink\u001b[39m\u001b[39m'\u001b[39m,\u001b[39m'\u001b[39m\u001b[39mpink\u001b[39m\u001b[39m'\u001b[39m,\u001b[39m'\u001b[39m\u001b[39mpink\u001b[39m\u001b[39m'\u001b[39m,\u001b[39m'\u001b[39m\u001b[39mpink\u001b[39m\u001b[39m'\u001b[39m,\u001b[39m'\u001b[39m\u001b[39mpink\u001b[39m\u001b[39m'\u001b[39m])\n\u001b[0;32m      3\u001b[0m plt\u001b[39m.\u001b[39mtitle(\u001b[39m\"\u001b[39m\u001b[39mNumber of Menu Items for each Food Category\u001b[39m\u001b[39m\"\u001b[39m)\n\u001b[0;32m      4\u001b[0m plt\u001b[39m.\u001b[39mylabel(\u001b[39m\"\u001b[39m\u001b[39mCount\u001b[39m\u001b[39m\"\u001b[39m)\n",
      "\u001b[1;31mAttributeError\u001b[0m: 'function' object has no attribute 'plot'"
     ]
    },
    {
     "data": {
      "text/plain": [
       "<Figure size 640x480 with 0 Axes>"
      ]
     },
     "metadata": {},
     "output_type": "display_data"
    }
   ],
   "source": [
    "plt.figure()\n",
    "menu_category.plot.bar(color = ['red','pink','pink','pink','pink','pink','pink','pink','pink'])\n",
    "plt.title(\"Number of Menu Items for each Food Category\")\n",
    "plt.ylabel(\"Count\")\n",
    "plt.xlabel(\"Menu Category\")\n",
    "plt.xticks(rotation=45)\n",
    "plt.show()"
   ]
  },
  {
   "cell_type": "code",
   "execution_count": 7,
   "metadata": {},
   "outputs": [
    {
     "data": {
      "image/png": "[encoded data removed]",
      "text/plain": [
       "<Figure size 640x480 with 1 Axes>"
      ]
     },
     "metadata": {},
     "output_type": "display_data"
    }
   ],
   "source": [
    "# Fats and Carbohydrates\n",
    "plt.figure()\n",
    "correlation = data[\"Calories\"].corr(data['Calories from Fat'])\n",
    "plt.scatter(data.Calories, data[\"Calories from Fat\"],color = 'black')\n",
    "plt.text(500,450, 'r ={}'.format(round(correlation,2)))\n",
    "plt.xlabel(\"Calories\")\n",
    "plt.ylabel(\"Calories from Fat\")\n",
    "plt.title(\"Relationship Calories and Calories from Fat\")\n",
    "plt.show()"
   ]
  },
  {
   "cell_type": "code",
   "execution_count": 8,
   "metadata": {},
   "outputs": [
    {
     "data": {
      "text/plain": [
       "Category\n",
       "Beef & Pork           1.100000\n",
       "Beverages             0.000000\n",
       "Breakfast             0.107143\n",
       "Chicken & Fish        0.129630\n",
       "Coffee & Tea          0.142105\n",
       "Desserts              0.000000\n",
       "Salads                0.000000\n",
       "Smoothies & Shakes    0.535714\n",
       "Snacks & Sides        0.000000\n",
       "Name: Trans Fat, dtype: float64"
      ]
     },
     "execution_count": 8,
     "metadata": {},
     "output_type": "execute_result"
    }
   ],
   "source": [
    "data.groupby('Category')['Trans Fat'].mean() "
   ]
  },
  {
   "cell_type": "code",
   "execution_count": 9,
   "metadata": {},
   "outputs": [
    {
     "data": {
      "text/plain": [
       "0       1.92\n",
       "1      12.00\n",
       "2      17.78\n",
       "3       3.51\n",
       "4      16.00\n",
       "       ...  \n",
       "255    20.00\n",
       "256    21.82\n",
       "257    20.00\n",
       "258    25.00\n",
       "259    26.67\n",
       "Name: Saturated_cholesterol, Length: 260, dtype: float64"
      ]
     },
     "execution_count": 9,
     "metadata": {},
     "output_type": "execute_result"
    }
   ],
   "source": [
    "data['Saturated_cholesterol'] = round(data['Saturated Fat']/data[\"Cholesterol\"]*100,2)\n",
    "data['Saturated_cholesterol']"
   ]
  },
  {
   "cell_type": "code",
   "execution_count": 10,
   "metadata": {},
   "outputs": [],
   "source": [
    "saturated_cholesterol = data.groupby('Category')['Saturated_cholesterol'].mean().dropna().nlargest()"
   ]
  },
  {
   "cell_type": "code",
   "execution_count": 11,
   "metadata": {},
   "outputs": [
    {
     "data": {
      "text/plain": [
       "Category\n",
       "Coffee & Tea          14.930238\n",
       "Smoothies & Shakes    14.633214\n",
       "Beef & Pork           11.853333\n",
       "Salads                 9.975000\n",
       "Chicken & Fish         8.358519\n",
       "Name: Saturated_cholesterol, dtype: float64"
      ]
     },
     "execution_count": 11,
     "metadata": {},
     "output_type": "execute_result"
    }
   ],
   "source": [
    "saturated_cholesterol"
   ]
  },
  {
   "cell_type": "code",
   "execution_count": 12,
   "metadata": {},
   "outputs": [
    {
     "data": {
      "image/png": "[encoded data removed]",
      "text/plain": [
       "<Figure size 640x480 with 1 Axes>"
      ]
     },
     "metadata": {},
     "output_type": "display_data"
    }
   ],
   "source": [
    "plt.figure()\n",
    "saturated_cholesterol.sort_values(ascending=False).plot.bar(color = 'blue')\n",
    "plt.title(\"Top 5 food categories with the highest % Saturated Fat\")\n",
    "plt.ylabel(\"Percentage\")\n",
    "plt.xlabel(\"Menu Category\")\n",
    "plt.xticks(rotation=45)\n",
    "plt.show()"
   ]
  },
  {
   "cell_type": "code",
   "execution_count": 13,
   "metadata": {},
   "outputs": [],
   "source": [
    "shakes = data[data.Category =='Smoothies & Shakes']"
   ]
  },
  {
   "cell_type": "code",
   "execution_count": 14,
   "metadata": {},
   "outputs": [
    {
     "data": {
      "text/plain": [
       "Item\n",
       "Blueberry Pomegranate Smoothie (Medium)               0.00\n",
       "Blueberry Pomegranate Smoothie (Small)                0.00\n",
       "Mango Pineapple Smoothie (Medium)                     0.00\n",
       "Mango Pineapple Smoothie (Small)                      0.00\n",
       "Strawberry Banana Smoothie (Small)                    0.00\n",
       "Strawberry Banana Smoothie (Medium)                   0.00\n",
       "Blueberry Pomegranate Smoothie (Large)               10.00\n",
       "Mango Pineapple Smoothie (Large)                     10.00\n",
       "Strawberry Banana Smoothie (Large)                   10.00\n",
       "Chocolate Shake (Medium)                             16.00\n",
       "Vanilla Shake (Medium)                               16.00\n",
       "Shamrock Shake (Medium)                              16.00\n",
       "Vanilla Shake (Large)                                16.67\n",
       "Strawberry Shake (Small)                             16.67\n",
       "Strawberry Shake (Large)                             16.67\n",
       "Shamrock Shake (Large)                               16.67\n",
       "Vanilla Shake (Small)                                16.67\n",
       "Chocolate Shake (Small)                              16.67\n",
       "Strawberry Shake (Medium)                            17.33\n",
       "Chocolate Shake (Large)                              17.65\n",
       "McFlurry with Oreo Cookies (Snack)                   20.00\n",
       "McFlurry with Oreo Cookies (Small)                   20.00\n",
       "McFlurry with Oreo Cookies (Medium)                  21.82\n",
       "McFlurry with Reese's Peanut Butter Cups (Medium)    25.00\n",
       "McFlurry with M&M’s Candies (Medium)                 26.67\n",
       "McFlurry with Reese's Peanut Butter Cups (Snack)     26.67\n",
       "McFlurry with M&M’s Candies (Small)                  28.00\n",
       "McFlurry with M&M’s Candies (Snack)                  28.57\n",
       "Name: Saturated_cholesterol, dtype: float64"
      ]
     },
     "execution_count": 14,
     "metadata": {},
     "output_type": "execute_result"
    }
   ],
   "source": [
    "shakes.groupby('Item')['Saturated_cholesterol'].mean().sort_values()\n"
   ]
  },
  {
   "cell_type": "code",
   "execution_count": 15,
   "metadata": {},
   "outputs": [],
   "source": [
    "beef_pork = data[data.Category ==\"Beef & Pork\"]"
   ]
  },
  {
   "cell_type": "code",
   "execution_count": 16,
   "metadata": {},
   "outputs": [
    {
     "data": {
      "text/plain": [
       "Item\n",
       "Hamburger                                    10.00\n",
       "McDouble                                     10.67\n",
       "Bacon McDouble                               11.11\n",
       "Cheeseburger                                 11.11\n",
       "Double Cheeseburger                          11.11\n",
       "Daily Double                                 11.25\n",
       "Jalapeño Double                              11.25\n",
       "Big Mac                                      11.76\n",
       "Double Quarter Pounder with Cheese           11.88\n",
       "Quarter Pounder with Bacon & Cheese          12.38\n",
       "Quarter Pounder with Bacon Habanero Ranch    12.38\n",
       "Quarter Pounder with Cheese                  12.63\n",
       "Quarter Pounder Deluxe                       12.94\n",
       "Bacon Clubhouse Burger                       13.04\n",
       "McRib                                        14.29\n",
       "Name: Saturated_cholesterol, dtype: float64"
      ]
     },
     "execution_count": 16,
     "metadata": {},
     "output_type": "execute_result"
    }
   ],
   "source": [
    "beef_pork.groupby(\"Item\")[\"Saturated_cholesterol\"].mean().sort_values()"
   ]
  },
  {
   "cell_type": "code",
   "execution_count": 17,
   "metadata": {},
   "outputs": [
    {
     "data": {
      "text/plain": [
       "Item\n",
       "Premium Southwest Salad with Grilled Chicken       3.57\n",
       "Premium Bacon Ranch Salad with Grilled Chicken     4.71\n",
       "Premium Bacon Ranch Salad with Crispy Chicken      8.57\n",
       "Premium Southwest Salad with Crispy Chicken        9.00\n",
       "Premium Bacon Ranch Salad (without Chicken)       14.00\n",
       "Premium Southwest Salad (without Chicken)         20.00\n",
       "Name: Saturated_cholesterol, dtype: float64"
      ]
     },
     "execution_count": 17,
     "metadata": {},
     "output_type": "execute_result"
    }
   ],
   "source": [
    "salads = data[data.Category == 'Salads']\n",
    "salads.groupby('Item')['Saturated_cholesterol'].mean().sort_values()"
   ]
  },
  {
   "cell_type": "code",
   "execution_count": 18,
   "metadata": {},
   "outputs": [
    {
     "data": {
      "text/plain": [
       "Item\n",
       "Premium Grilled Chicken Classic Sandwich                 3.08\n",
       "Premium McWrap Chicken Sweet Chili (Grilled Chicken)     4.62\n",
       "Premium Grilled Chicken Ranch BLT Sandwich               5.00\n",
       "Southern Style Crispy Chicken Sandwich                   6.67\n",
       "Premium Grilled Chicken Club Sandwich                    6.67\n",
       "Bacon Clubhouse Grilled Chicken Sandwich                 7.27\n",
       "Premium McWrap Chicken & Bacon (Grilled Chicken)         7.37\n",
       "Chicken McNuggets (20 piece)                             7.41\n",
       "Premium McWrap Chicken & Ranch (Grilled Chicken)         7.50\n",
       "Premium McWrap Southwest Chicken (Grilled Chicken)       7.50\n",
       "Chicken McNuggets (6 piece)                              7.50\n",
       "Chicken McNuggets (40 piece)                             7.55\n",
       "Chicken McNuggets (10 piece)                             7.69\n",
       "Premium Crispy Chicken Classic Sandwich                  7.78\n",
       "Chicken McNuggets (4 piece)                              8.00\n",
       "McChicken                                                8.57\n",
       "Premium Crispy Chicken Ranch BLT Sandwich                8.57\n",
       "Buffalo Ranch McChicken                                  8.57\n",
       "Premium McWrap Chicken Sweet Chili (Crispy Chicken)      9.00\n",
       "Bacon Buffalo Ranch McChicken                           10.00\n",
       "Filet-O-Fish                                            10.00\n",
       "Premium Crispy Chicken Club Sandwich                    10.59\n",
       "Bacon Cheddar McChicken                                 10.77\n",
       "Bacon Clubhouse Crispy Chicken Sandwich                 11.11\n",
       "Premium McWrap Chicken & Bacon (Crispy Chicken)         11.25\n",
       "Premium McWrap Chicken & Ranch (Crispy Chicken)         12.31\n",
       "Premium McWrap Southwest Chicken (Crispy Chicken)       13.33\n",
       "Name: Saturated_cholesterol, dtype: float64"
      ]
     },
     "execution_count": 18,
     "metadata": {},
     "output_type": "execute_result"
    }
   ],
   "source": [
    "chicken_fish = data[data.Category == 'Chicken & Fish']\n",
    "chicken_fish.groupby('Item')['Saturated_cholesterol'].mean().sort_values()"
   ]
  },
  {
   "cell_type": "code",
   "execution_count": 19,
   "metadata": {},
   "outputs": [
    {
     "data": {
      "text/plain": [
       "Category\n",
       "Salads                 7.166667\n",
       "Beverages              9.592593\n",
       "Snacks & Sides         9.615385\n",
       "Desserts              11.571429\n",
       "Beef & Pork           13.466667\n",
       "Coffee & Tea          14.863158\n",
       "Chicken & Fish        16.333333\n",
       "Breakfast             16.571429\n",
       "Smoothies & Shakes    30.142857\n",
       "Name: Carbohydrates (% Daily Value), dtype: float64"
      ]
     },
     "execution_count": 19,
     "metadata": {},
     "output_type": "execute_result"
    }
   ],
   "source": [
    "data.groupby('Category')['Carbohydrates (% Daily Value)'].mean().sort_values()"
   ]
  },
  {
   "cell_type": "code",
   "execution_count": 20,
   "metadata": {},
   "outputs": [
    {
     "data": {
      "image/png": "[encoded data removed]",
      "text/plain": [
       "<Figure size 640x480 with 1 Axes>"
      ]
     },
     "metadata": {},
     "output_type": "display_data"
    }
   ],
   "source": [
    "plt.figure()\n",
    "plt.scatter(data['Total Fat (% Daily Value)'], data['Carbohydrates (% Daily Value)'], color='k')\n",
    "correlation = data['Total Fat (% Daily Value)'].corr(data['Carbohydrates (% Daily Value)'])\n",
    "plt.text(125,20,'r = {}'.format(round(correlation,2)))\n",
    "plt.xlabel(\"% Total Fat\")\n",
    "plt.ylabel(\"% Total Carbohydrate\")\n",
    "plt.title(\"Relationship between % Total Fat and % Total Carbohydrate\")\n",
    "plt.show()"
   ]
  },
  {
   "cell_type": "code",
   "execution_count": null,
   "metadata": {},
   "outputs": [],
   "source": [
    "# There is a strong relationship between Calories and Calories with fat. Hence, food items with high caloric content tend \n",
    "# to also have a high calories with fat content.\n",
    "# Generally, McDonalds foods have low trans fat which is good.\n",
    "# The Smoothies and Shakes Menu Category had the highest saturated fat content. Upon analysis, it was discovered that \n",
    "# while Fruit shakes had no saturated fat. However, milk Shakes, Chocolate Shakes, Shamrock and McFlurry shakes had high \n",
    "# saturated fat with McFlurry at the top of the list.\n",
    "# Whereas ordinary tea & coffee have no saturated fat, drinks with mocha, latte and chocolate have a high saturated fat content.\n",
    "# All the menus under Beef and Pork have a high %saturated fat content between 10% and 14%.\n",
    "# According to Harvard School of Public Health, in an attempt to reduce fat, most food manufacturers replace it with \n",
    "# carbohydrate. In view of this, the analysis of the % Total Carbohydrate in Mcdonald's foods was analyzed and it was \n",
    "# discovered that on average, Mcdonald's foods are low carbs. Also, there is a weak relationship between carbohydrate and \n",
    "# fat in the food items"
   ]
  },
  {
   "cell_type": "code",
   "execution_count": 22,
   "metadata": {},
   "outputs": [
    {
     "data": {
      "text/plain": [
       "Category\n",
       "Beef & Pork             6.933333\n",
       "Beverages               0.740741\n",
       "Breakfast               6.928571\n",
       "Chicken & Fish         20.444444\n",
       "Coffee & Tea           10.736842\n",
       "Desserts                5.142857\n",
       "Salads                146.666667\n",
       "Smoothies & Shakes     18.750000\n",
       "Snacks & Sides          4.846154\n",
       "Name: Vitamin A (% Daily Value), dtype: float64"
      ]
     },
     "execution_count": 22,
     "metadata": {},
     "output_type": "execute_result"
    }
   ],
   "source": [
    "# Vitamin and Minerals\n",
    "data.groupby('Category')['Vitamin A (% Daily Value)'].mean()"
   ]
  },
  {
   "cell_type": "code",
   "execution_count": 25,
   "metadata": {},
   "outputs": [
    {
     "data": {
      "text/plain": [
       "Category\n",
       "Beef & Pork            7.333333\n",
       "Beverages             23.481481\n",
       "Breakfast              8.904762\n",
       "Chicken & Fish        12.629630\n",
       "Coffee & Tea           0.000000\n",
       "Desserts               4.142857\n",
       "Salads                28.333333\n",
       "Smoothies & Shakes     6.964286\n",
       "Snacks & Sides        28.153846\n",
       "Name: Vitamin C (% Daily Value), dtype: float64"
      ]
     },
     "execution_count": 25,
     "metadata": {},
     "output_type": "execute_result"
    }
   ],
   "source": [
    "data.groupby('Category')['Vitamin C (% Daily Value)'].mean()"
   ]
  },
  {
   "cell_type": "code",
   "execution_count": 26,
   "metadata": {},
   "outputs": [
    {
     "data": {
      "text/plain": [
       "Item\n",
       "Diet Dr Pepper (Small)                 0.0\n",
       "Sprite (Large)                         0.0\n",
       "Sprite (Child)                         0.0\n",
       "Fat Free Chocolate Milk Jug            0.0\n",
       "Dr Pepper (Small)                      0.0\n",
       "Dr Pepper (Medium)                     0.0\n",
       "Dr Pepper (Large)                      0.0\n",
       "Dr Pepper (Child)                      0.0\n",
       "Sprite (Medium)                        0.0\n",
       "Diet Dr Pepper (Medium)                0.0\n",
       "Diet Dr Pepper (Large)                 0.0\n",
       "Sprite (Small)                         0.0\n",
       "Diet Coke (Small)                      0.0\n",
       "Diet Coke (Medium)                     0.0\n",
       "Diet Coke (Large)                      0.0\n",
       "Diet Coke (Child)                      0.0\n",
       "Dasani Water Bottle                    0.0\n",
       "Coca-Cola Classic (Small)              0.0\n",
       "Coca-Cola Classic (Medium)             0.0\n",
       "Coca-Cola Classic (Large)              0.0\n",
       "Coca-Cola Classic (Child)              0.0\n",
       "Diet Dr Pepper (Child)                 0.0\n",
       "1% Low Fat Milk Jug                    4.0\n",
       "Minute Maid 100% Apple Juice Box     100.0\n",
       "Minute Maid Orange Juice (Small)     130.0\n",
       "Minute Maid Orange Juice (Medium)    160.0\n",
       "Minute Maid Orange Juice (Large)     240.0\n",
       "Name: Vitamin C (% Daily Value), dtype: float64"
      ]
     },
     "execution_count": 26,
     "metadata": {},
     "output_type": "execute_result"
    }
   ],
   "source": [
    "beverage = data[data.Category == 'Beverages']\n",
    "beverage.groupby('Item')['Vitamin C (% Daily Value)'].mean().sort_values()"
   ]
  },
  {
   "cell_type": "code",
   "execution_count": null,
   "metadata": {},
   "outputs": [],
   "source": []
  }
 ],
 "metadata": {
  "kernelspec": {
   "display_name": "Python 3",
   "language": "python",
   "name": "python3"
  },
  "language_info": {
   "codemirror_mode": {
    "name": "ipython",
    "version": 3
   },
   "file_extension": ".py",
   "mimetype": "text/x-python",
   "name": "python",
   "nbconvert_exporter": "python",
   "pygments_lexer": "ipython3",
   "version": "3.11.3"
  },
  "orig_nbformat": 4
 },
 "nbformat": 4,
 "nbformat_minor": 2
}
